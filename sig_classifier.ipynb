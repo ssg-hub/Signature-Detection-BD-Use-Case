{
  "nbformat": 4,
  "nbformat_minor": 0,
  "metadata": {
    "colab": {
      "name": "sig_classifier.ipynb",
      "provenance": [],
      "collapsed_sections": []
    },
    "kernelspec": {
      "name": "python3",
      "display_name": "Python 3"
    },
    "language_info": {
      "name": "python"
    }
  },
  "cells": [
    {
      "cell_type": "markdown",
      "metadata": {
        "id": "70_dyVA__nfR"
      },
      "source": [
        "# Business Decision Signature Detection Use Case\n"
      ]
    },
    {
      "cell_type": "markdown",
      "metadata": {
        "id": "bm5I4XNM__7g"
      },
      "source": [
        "Notebook to create a VGG 16 model to classify between image with **no signature** and with **signature**"
      ]
    },
    {
      "cell_type": "code",
      "metadata": {
        "id": "E8YGDSw95YLV"
      },
      "source": [
        "# import the required libraries\n",
        "import os\n",
        "import random\n",
        "import numpy as np \n",
        "import pandas as pd\n",
        "import scipy as sp\n",
        "import matplotlib.pyplot as plt\n",
        "\n",
        "import tensorflow as tf\n",
        "from tensorflow.keras.layers import *\n",
        "from tensorflow.keras.models import *\n",
        "from tensorflow.keras import layers\n",
        "from tensorflow.keras.optimizers import *\n",
        "from tensorflow.keras.callbacks import *\n",
        "from tensorflow.keras.callbacks import History\n",
        "from tensorflow.keras.applications import vgg16\n",
        "from tensorflow.keras.preprocessing.image import img_to_array, load_img\n",
        "from tensorflow.keras.preprocessing.image import array_to_img, ImageDataGenerator\n",
        "\n",
        "import cv2\n",
        "\n",
        "from sklearn.metrics import classification_report, accuracy_score, confusion_matrix\n"
      ],
      "execution_count": 124,
      "outputs": []
    },
    {
      "cell_type": "markdown",
      "metadata": {
        "id": "6JqxGvQa_jkn"
      },
      "source": [
        "### Defining folders containing data sets\n"
      ]
    },
    {
      "cell_type": "code",
      "metadata": {
        "id": "ZwF74Jv02h-r"
      },
      "source": [
        "training_folder = '/content/drive/My Drive/model_data/train'\n",
        "validation_folder = '/content/drive/My Drive/model_data/val'"
      ],
      "execution_count": 126,
      "outputs": []
    },
    {
      "cell_type": "code",
      "metadata": {
        "id": "LW0NQA700IvO"
      },
      "source": [
        "test_folder = '/content/drive/My Drive/model_data/test'"
      ],
      "execution_count": 127,
      "outputs": []
    },
    {
      "cell_type": "code",
      "metadata": {
        "id": "DzA1sVrJGWU-"
      },
      "source": [
        "# Defining some common parameters\n",
        "SHAPE = (224,224, 3) # to ensure the shape of all images is same\n",
        "batch_size = 256 # to define a uniform batch size"
      ],
      "execution_count": 133,
      "outputs": []
    },
    {
      "cell_type": "markdown",
      "metadata": {
        "id": "uPOLotRLAuJ9"
      },
      "source": [
        "### Required Functions : model & image labeling\n"
      ]
    },
    {
      "cell_type": "code",
      "metadata": {
        "id": "rSfXGUc4Azfe"
      },
      "source": [
        "def vgg_model():\n",
        "    \"\"\"\n",
        "    Function to create a modified version of VGG 16 model\n",
        "    \"\"\"\n",
        "    # defining the model to use\n",
        "    vgg = vgg16.VGG16(weights='imagenet', \n",
        "                      include_top=False, \n",
        "                      input_shape = SHAPE)\n",
        "    \n",
        "    for layer in vgg.layers:\n",
        "        layer.trainable = False\n",
        "    \n",
        "    # adding pooling and dense layers\n",
        "    x = vgg.output\n",
        "    x = GlobalAveragePooling2D()(x)\n",
        "    x = Dense(2, activation=\"softmax\")(x)\n",
        "\n",
        "    # create and compile the model\n",
        "    model = Model(vgg.input, x)\n",
        "    model.compile(optimizer = SGD(learning_rate=0.0001, momentum=0.9),\n",
        "                  loss = \"categorical_crossentropy\", \n",
        "                  metrics=[\"accuracy\"])\n",
        "    \n",
        "    return model"
      ],
      "execution_count": 158,
      "outputs": []
    },
    {
      "cell_type": "code",
      "metadata": {
        "id": "eLJ_aN7krFA5"
      },
      "source": [
        "def predict_label(image):\n",
        "  \"\"\"\n",
        "  Function to return a label 0 or 1, given and image to classify.\n",
        "  \"\"\"\n",
        "  \n",
        "  img = load_img(\n",
        "      image, target_size=(SHAPE[0, SHAPE[1])\n",
        "                )\n",
        "\n",
        "  img_array = img_to_array(img)\n",
        "  img_array = np.expand_dims(img_array, 0) # Create a batch\n",
        "\n",
        "  # get the weights for each class\n",
        "  predictions = model.predict(img_array)\n",
        "  \n",
        "  # get the confidence score for the prediction\n",
        "  score = tf.nn.softmax(predictions[0])\n",
        "\n",
        "  # get the label for the predicted clas : 0/1\n",
        "  # depending on which class has the higher score\n",
        "  label = np.argmax(score)\n",
        "\n",
        "  # generating class name for the label\n",
        "  if label == 1 :   cls = 'signature'\n",
        "  else :   cls = 'no_signature'\n",
        "  \n",
        "  return label\n",
        "\n"
      ],
      "execution_count": 79,
      "outputs": []
    },
    {
      "cell_type": "markdown",
      "metadata": {
        "id": "DwIVCG73BD-m"
      },
      "source": [
        "Rescaling the train, validation and test data\n"
      ]
    },
    {
      "cell_type": "code",
      "metadata": {
        "id": "jrrs-GqRJoeU"
      },
      "source": [
        "train_gen = ImageDataGenerator(rescale=1/255)\n",
        "\n",
        "val_gen = ImageDataGenerator(rescale=1/255)\n"
      ],
      "execution_count": 145,
      "outputs": []
    },
    {
      "cell_type": "code",
      "metadata": {
        "id": "Q70YH6axz9QG"
      },
      "source": [
        "test_gen = ImageDataGenerator(rescale=1/255)"
      ],
      "execution_count": 146,
      "outputs": []
    },
    {
      "cell_type": "markdown",
      "metadata": {
        "id": "xmmlPo-mBMU8"
      },
      "source": [
        "### Creating FLOW GENERATORS to train and test the model"
      ]
    },
    {
      "cell_type": "code",
      "metadata": {
        "colab": {
          "base_uri": "https://localhost:8080/"
        },
        "id": "VDSEcOLNJs0z",
        "outputId": "c3d42e85-c243-4ca9-fa07-843db43986bc"
      },
      "source": [
        "\n",
        "# indentifying number of classes for test and validation sets\n",
        "train_generator = train_gen.flow_from_directory(\n",
        "            directory = training_folder,\n",
        "            target_size = (SHAPE[0], SHAPE[1]),\n",
        "            batch_size = batch_size,\n",
        "            class_mode = 'categorical',\n",
        "            shuffle = True,\n",
        "            subset = 'training',\n",
        "            seed = 33\n",
        ")\n"
      ],
      "execution_count": 147,
      "outputs": [
        {
          "output_type": "stream",
          "name": "stdout",
          "text": [
            "Found 833 images belonging to 2 classes.\n"
          ]
        }
      ]
    },
    {
      "cell_type": "code",
      "metadata": {
        "colab": {
          "base_uri": "https://localhost:8080/"
        },
        "id": "pZk0QgxP4lOj",
        "outputId": "d47a5008-ffe5-4ee5-f53c-811cde19dc66"
      },
      "source": [
        "# validation set \n",
        "validation_generator = val_gen.flow_from_directory(\n",
        "            directory = validation_folder,\n",
        "            target_size = (SHAPE[0], SHAPE[1]),\n",
        "            batch_size = batch_size,\n",
        "            class_mode = 'categorical',\n",
        "            shuffle = True,\n",
        "            \n",
        "            seed = 33\n",
        ")"
      ],
      "execution_count": 148,
      "outputs": [
        {
          "output_type": "stream",
          "name": "stdout",
          "text": [
            "Found 288 images belonging to 2 classes.\n"
          ]
        }
      ]
    },
    {
      "cell_type": "code",
      "metadata": {
        "colab": {
          "base_uri": "https://localhost:8080/"
        },
        "id": "P2IQLTgnzo_r",
        "outputId": "950b6d30-a1ec-43af-ba67-393b8bb31b08"
      },
      "source": [
        "# testing set\n",
        "\n",
        "test_generator = test_gen.flow_from_directory(\n",
        "            '/content/drive/My Drive/model_data', classes=['test'],\n",
        "            target_size = (SHAPE[0], SHAPE[1]),\n",
        "            batch_size = 1,\n",
        "            class_mode = None,\n",
        "            shuffle = False,\n",
        "            seed = 33\n",
        ")"
      ],
      "execution_count": 149,
      "outputs": [
        {
          "output_type": "stream",
          "name": "stdout",
          "text": [
            "Found 251 images belonging to 1 classes.\n"
          ]
        }
      ]
    },
    {
      "cell_type": "markdown",
      "metadata": {
        "id": "1IJUU2tZBknC"
      },
      "source": [
        "Getting the names for the classes"
      ]
    },
    {
      "cell_type": "code",
      "metadata": {
        "colab": {
          "base_uri": "https://localhost:8080/"
        },
        "id": "SMffR3zf51_1",
        "outputId": "d5a773ed-bbe5-4447-d30e-d3b0d5c14290"
      },
      "source": [
        "class_names = train_generator.class_indices\n",
        "print(class_names)"
      ],
      "execution_count": 150,
      "outputs": [
        {
          "output_type": "stream",
          "name": "stdout",
          "text": [
            "{'no_sig': 0, 'sig': 1}\n"
          ]
        }
      ]
    },
    {
      "cell_type": "code",
      "metadata": {
        "id": "kIx8-sfBItDh"
      },
      "source": [
        "labels = train_generator.class_indices\n",
        "labels = dict((v,k) for k,v in labels.items())"
      ],
      "execution_count": null,
      "outputs": []
    },
    {
      "cell_type": "markdown",
      "metadata": {
        "id": "WIXNPozpCNvT"
      },
      "source": [
        "### Training the VGG16 model"
      ]
    },
    {
      "cell_type": "code",
      "metadata": {
        "id": "I9WwvEbJ-Ojf"
      },
      "source": [
        "# calling the model\n",
        "model = vgg_model()"
      ],
      "execution_count": 159,
      "outputs": []
    },
    {
      "cell_type": "code",
      "metadata": {
        "colab": {
          "base_uri": "https://localhost:8080/"
        },
        "id": "3agYhhyNBgyV",
        "outputId": "248a58fe-eec7-47e4-98ff-30f1808c85fa"
      },
      "source": [
        "# fitting the model \n",
        "history = model.fit(train_generator, \n",
        "                    validation_data = validation_generator, \n",
        "                    epochs = 25,\n",
        "                    steps_per_epoch = train_generator.samples//train_generator.batch_size)\n"
      ],
      "execution_count": 160,
      "outputs": [
        {
          "output_type": "stream",
          "name": "stdout",
          "text": [
            "Epoch 1/25\n",
            "3/3 [==============================] - 441s 154s/step - loss: 0.7886 - accuracy: 0.3917 - val_loss: 0.8312 - val_accuracy: 0.2847\n",
            "Epoch 2/25\n",
            "3/3 [==============================] - 433s 151s/step - loss: 0.7703 - accuracy: 0.4073 - val_loss: 0.8077 - val_accuracy: 0.2847\n",
            "Epoch 3/25\n",
            "3/3 [==============================] - 433s 199s/step - loss: 0.7532 - accuracy: 0.3969 - val_loss: 0.7785 - val_accuracy: 0.2847\n",
            "Epoch 4/25\n",
            "3/3 [==============================] - 432s 198s/step - loss: 0.7307 - accuracy: 0.4055 - val_loss: 0.7475 - val_accuracy: 0.2847\n",
            "Epoch 5/25\n",
            "3/3 [==============================] - 428s 149s/step - loss: 0.7137 - accuracy: 0.4090 - val_loss: 0.7197 - val_accuracy: 0.3333\n",
            "Epoch 6/25\n",
            "3/3 [==============================] - 423s 148s/step - loss: 0.7041 - accuracy: 0.3934 - val_loss: 0.6966 - val_accuracy: 0.4792\n",
            "Epoch 7/25\n",
            "3/3 [==============================] - 436s 200s/step - loss: 0.6929 - accuracy: 0.5303 - val_loss: 0.6764 - val_accuracy: 0.6562\n",
            "Epoch 8/25\n",
            "3/3 [==============================] - 429s 150s/step - loss: 0.6869 - accuracy: 0.6031 - val_loss: 0.6604 - val_accuracy: 0.7014\n",
            "Epoch 9/25\n",
            "3/3 [==============================] - 441s 155s/step - loss: 0.6784 - accuracy: 0.6170 - val_loss: 0.6485 - val_accuracy: 0.7118\n",
            "Epoch 10/25\n",
            "3/3 [==============================] - 447s 158s/step - loss: 0.6782 - accuracy: 0.5927 - val_loss: 0.6400 - val_accuracy: 0.7153\n",
            "Epoch 11/25\n",
            "3/3 [==============================] - 443s 203s/step - loss: 0.6711 - accuracy: 0.6049 - val_loss: 0.6332 - val_accuracy: 0.7153\n",
            "Epoch 12/25\n",
            "3/3 [==============================] - 442s 203s/step - loss: 0.6773 - accuracy: 0.5858 - val_loss: 0.6290 - val_accuracy: 0.7153\n",
            "Epoch 13/25\n",
            "3/3 [==============================] - 441s 154s/step - loss: 0.6773 - accuracy: 0.5927 - val_loss: 0.6267 - val_accuracy: 0.7153\n",
            "Epoch 14/25\n",
            "3/3 [==============================] - 435s 153s/step - loss: 0.6822 - accuracy: 0.5719 - val_loss: 0.6258 - val_accuracy: 0.7153\n",
            "Epoch 15/25\n",
            "3/3 [==============================] - 526s 198s/step - loss: 0.6740 - accuracy: 0.5951 - val_loss: 0.6254 - val_accuracy: 0.7153\n",
            "Epoch 16/25\n",
            "3/3 [==============================] - 435s 200s/step - loss: 0.6732 - accuracy: 0.5962 - val_loss: 0.6254 - val_accuracy: 0.7153\n",
            "Epoch 17/25\n",
            "3/3 [==============================] - 428s 150s/step - loss: 0.6785 - accuracy: 0.5841 - val_loss: 0.6258 - val_accuracy: 0.7153\n",
            "Epoch 18/25\n",
            "3/3 [==============================] - 521s 196s/step - loss: 0.6742 - accuracy: 0.5938 - val_loss: 0.6265 - val_accuracy: 0.7153\n",
            "Epoch 19/25\n",
            "3/3 [==============================] - 582s 227s/step - loss: 0.6747 - accuracy: 0.5924 - val_loss: 0.6271 - val_accuracy: 0.7153\n",
            "Epoch 20/25\n",
            "3/3 [==============================] - 436s 152s/step - loss: 0.6778 - accuracy: 0.5893 - val_loss: 0.6277 - val_accuracy: 0.7153\n",
            "Epoch 21/25\n",
            "3/3 [==============================] - 429s 150s/step - loss: 0.6796 - accuracy: 0.5771 - val_loss: 0.6286 - val_accuracy: 0.7153\n",
            "Epoch 22/25\n",
            "3/3 [==============================] - 429s 150s/step - loss: 0.6668 - accuracy: 0.6118 - val_loss: 0.6289 - val_accuracy: 0.7153\n",
            "Epoch 23/25\n",
            "3/3 [==============================] - 428s 151s/step - loss: 0.6616 - accuracy: 0.6239 - val_loss: 0.6284 - val_accuracy: 0.7153\n",
            "Epoch 24/25\n",
            "3/3 [==============================] - 428s 150s/step - loss: 0.6748 - accuracy: 0.5927 - val_loss: 0.6282 - val_accuracy: 0.7153\n",
            "Epoch 25/25\n",
            "3/3 [==============================] - 427s 150s/step - loss: 0.6707 - accuracy: 0.6014 - val_loss: 0.6288 - val_accuracy: 0.7153\n"
          ]
        }
      ]
    },
    {
      "cell_type": "code",
      "metadata": {
        "colab": {
          "base_uri": "https://localhost:8080/"
        },
        "id": "e_Y_0aJL5oUL",
        "outputId": "3f0cc797-6b04-4624-d90c-bcf9e31ea34c"
      },
      "source": [
        "# model details\n",
        "model.summary()"
      ],
      "execution_count": 161,
      "outputs": [
        {
          "output_type": "stream",
          "name": "stdout",
          "text": [
            "Model: \"model_4\"\n",
            "_________________________________________________________________\n",
            "Layer (type)                 Output Shape              Param #   \n",
            "=================================================================\n",
            "input_6 (InputLayer)         [(None, 224, 224, 3)]     0         \n",
            "_________________________________________________________________\n",
            "block1_conv1 (Conv2D)        (None, 224, 224, 64)      1792      \n",
            "_________________________________________________________________\n",
            "block1_conv2 (Conv2D)        (None, 224, 224, 64)      36928     \n",
            "_________________________________________________________________\n",
            "block1_pool (MaxPooling2D)   (None, 112, 112, 64)      0         \n",
            "_________________________________________________________________\n",
            "block2_conv1 (Conv2D)        (None, 112, 112, 128)     73856     \n",
            "_________________________________________________________________\n",
            "block2_conv2 (Conv2D)        (None, 112, 112, 128)     147584    \n",
            "_________________________________________________________________\n",
            "block2_pool (MaxPooling2D)   (None, 56, 56, 128)       0         \n",
            "_________________________________________________________________\n",
            "block3_conv1 (Conv2D)        (None, 56, 56, 256)       295168    \n",
            "_________________________________________________________________\n",
            "block3_conv2 (Conv2D)        (None, 56, 56, 256)       590080    \n",
            "_________________________________________________________________\n",
            "block3_conv3 (Conv2D)        (None, 56, 56, 256)       590080    \n",
            "_________________________________________________________________\n",
            "block3_pool (MaxPooling2D)   (None, 28, 28, 256)       0         \n",
            "_________________________________________________________________\n",
            "block4_conv1 (Conv2D)        (None, 28, 28, 512)       1180160   \n",
            "_________________________________________________________________\n",
            "block4_conv2 (Conv2D)        (None, 28, 28, 512)       2359808   \n",
            "_________________________________________________________________\n",
            "block4_conv3 (Conv2D)        (None, 28, 28, 512)       2359808   \n",
            "_________________________________________________________________\n",
            "block4_pool (MaxPooling2D)   (None, 14, 14, 512)       0         \n",
            "_________________________________________________________________\n",
            "block5_conv1 (Conv2D)        (None, 14, 14, 512)       2359808   \n",
            "_________________________________________________________________\n",
            "block5_conv2 (Conv2D)        (None, 14, 14, 512)       2359808   \n",
            "_________________________________________________________________\n",
            "block5_conv3 (Conv2D)        (None, 14, 14, 512)       2359808   \n",
            "_________________________________________________________________\n",
            "block5_pool (MaxPooling2D)   (None, 7, 7, 512)         0         \n",
            "_________________________________________________________________\n",
            "global_average_pooling2d_5 ( (None, 512)               0         \n",
            "_________________________________________________________________\n",
            "dense_6 (Dense)              (None, 2)                 1026      \n",
            "=================================================================\n",
            "Total params: 14,715,714\n",
            "Trainable params: 1,026\n",
            "Non-trainable params: 14,714,688\n",
            "_________________________________________________________________\n"
          ]
        }
      ]
    },
    {
      "cell_type": "markdown",
      "metadata": {
        "id": "ZUUaY89lDJUh"
      },
      "source": [
        "### Model Evaluation"
      ]
    },
    {
      "cell_type": "markdown",
      "metadata": {
        "id": "Wq--LCHgFlcP"
      },
      "source": [
        "Visualizing the loss and accuracy relations\n"
      ]
    },
    {
      "cell_type": "code",
      "metadata": {
        "colab": {
          "base_uri": "https://localhost:8080/",
          "height": 499
        },
        "id": "W6h_ttKszdOU",
        "outputId": "32c4273d-b56a-47e4-e201-cd20a1e2dbfa"
      },
      "source": [
        "# plotting the curves for training vs. validation accuracy and loss\n",
        "\n",
        "epochs = 25\n",
        "\n",
        "acc = history.history['accuracy']\n",
        "val_acc = history.history['val_accuracy']\n",
        "\n",
        "loss = history.history['loss']\n",
        "val_loss = history.history['val_loss']\n",
        "\n",
        "epochs_range = range(epochs)\n",
        "\n",
        "plt.figure(figsize=(8, 8))\n",
        "plt.subplot(1, 2, 1)\n",
        "plt.plot(epochs_range, acc, label='Training Accuracy')\n",
        "plt.plot(epochs_range, val_acc, label='Validation Accuracy')\n",
        "plt.legend(loc='lower right')\n",
        "plt.title('Training and Validation Accuracy')\n",
        "\n",
        "plt.subplot(1, 2, 2)\n",
        "plt.plot(epochs_range, loss, label='Training Loss')\n",
        "plt.plot(epochs_range, val_loss, label='Validation Loss')\n",
        "plt.legend(loc='upper right')\n",
        "plt.title('Training and Validation Loss')\n",
        "plt.show()\n"
      ],
      "execution_count": 162,
      "outputs": [
        {
          "output_type": "display_data",
          "data": {
            "image/png": "[encoded data removed]",
            "text/plain": [
              "<Figure size 576x576 with 2 Axes>"
            ]
          },
          "metadata": {
            "needs_background": "light"
          }
        }
      ]
    },
    {
      "cell_type": "code",
      "metadata": {
        "colab": {
          "base_uri": "https://localhost:8080/"
        },
        "id": "-RHHzcFZxR3U",
        "outputId": "ec605f05-80d4-4079-880f-34e301b5ab18"
      },
      "source": [
        "# getting the validation scores\n",
        "val_score = model.evaluate(validation_generator)\n",
        "print('Val Loss:', val_score[0])\n",
        "print('Val accuracy:', val_score[1])"
      ],
      "execution_count": 163,
      "outputs": [
        {
          "output_type": "stream",
          "name": "stdout",
          "text": [
            "2/2 [==============================] - 143s 16s/step - loss: 0.6288 - accuracy: 0.7153\n",
            "Val Loss: 0.6287772059440613\n",
            "Val accuracy: 0.7152777910232544\n"
          ]
        }
      ]
    },
    {
      "cell_type": "markdown",
      "metadata": {
        "id": "SLHjs3zCJqLs"
      },
      "source": [
        "### Model Evaluation continued\n"
      ]
    },
    {
      "cell_type": "markdown",
      "metadata": {
        "id": "HbbKkjpOJQGD"
      },
      "source": [
        "Retrieving Validation labels from the generator\n"
      ]
    },
    {
      "cell_type": "code",
      "metadata": {
        "colab": {
          "base_uri": "https://localhost:8080/"
        },
        "id": "tVE3qaySBajU",
        "outputId": "7e289d07-b88f-4450-8296-9efc933cefaa"
      },
      "source": [
        "val_num = validation_generator.samples\n",
        "\n",
        "label_val = []\n",
        "for i in range((val_num // validation_generator.batch_size)+1):\n",
        "    X,y = validation_generator.next()\n",
        "    label_val.append(y)\n",
        "        \n",
        "label_val = np.argmax(np.vstack(label_val), axis=1)\n",
        "\n",
        "label_val.shape\n",
        "\n"
      ],
      "execution_count": 164,
      "outputs": [
        {
          "output_type": "execute_result",
          "data": {
            "text/plain": [
              "(288,)"
            ]
          },
          "metadata": {},
          "execution_count": 164
        }
      ]
    },
    {
      "cell_type": "code",
      "metadata": {
        "id": "vab6uXOwyIar"
      },
      "source": [
        "# making predictions for validation set\n",
        "predict_val = np.argmax(model.predict(validation_generator),axis=1)"
      ],
      "execution_count": 166,
      "outputs": []
    },
    {
      "cell_type": "markdown",
      "metadata": {
        "id": "iEJ-xgDHKh_a"
      },
      "source": [
        "Performance checking on Validation Data"
      ]
    },
    {
      "cell_type": "code",
      "metadata": {
        "colab": {
          "base_uri": "https://localhost:8080/"
        },
        "id": "qPbZq2cHBq4H",
        "outputId": "1b6301e4-496f-468a-b79c-c56c1d568e4a"
      },
      "source": [
        "# Classification Report\n",
        "print(\"Classification report\")\n",
        "target_names = ['No_signature', 'Signature']\n",
        "print(classification_report(label_val, predict_val, target_names = target_names))"
      ],
      "execution_count": 167,
      "outputs": [
        {
          "output_type": "stream",
          "name": "stdout",
          "text": [
            "Classification report\n",
            "              precision    recall  f1-score   support\n",
            "\n",
            "No_signature       0.00      0.00      0.00        82\n",
            "   Signature       0.72      1.00      0.83       206\n",
            "\n",
            "    accuracy                           0.72       288\n",
            "   macro avg       0.36      0.50      0.42       288\n",
            "weighted avg       0.51      0.72      0.60       288\n",
            "\n"
          ]
        },
        {
          "output_type": "stream",
          "name": "stderr",
          "text": [
            "/usr/local/lib/python3.7/dist-packages/sklearn/metrics/_classification.py:1272: UndefinedMetricWarning: Precision and F-score are ill-defined and being set to 0.0 in labels with no predicted samples. Use `zero_division` parameter to control this behavior.\n",
            "  _warn_prf(average, modifier, msg_start, len(result))\n"
          ]
        }
      ]
    },
    {
      "cell_type": "code",
      "metadata": {
        "colab": {
          "base_uri": "https://localhost:8080/"
        },
        "id": "3nloNeG7x-Ku",
        "outputId": "3956d04f-da52-4678-c580-6953c6b04630"
      },
      "source": [
        "# Confusion Matrix\n",
        "print(\"Confusion Matrix\")\n",
        "print(confusion_matrix(label_val, predict_val))"
      ],
      "execution_count": 168,
      "outputs": [
        {
          "output_type": "stream",
          "name": "stdout",
          "text": [
            "Confusion Matrix\n",
            "[[  0  82]\n",
            " [  0 206]]\n"
          ]
        }
      ]
    },
    {
      "cell_type": "markdown",
      "metadata": {
        "id": "Zdp0Xy5xG0wg"
      },
      "source": [
        "### Generating predictions for Test dataset"
      ]
    },
    {
      "cell_type": "code",
      "metadata": {
        "id": "vgACViU1yFHL",
        "colab": {
          "base_uri": "https://localhost:8080/"
        },
        "outputId": "ce5aa31d-af7e-495c-fda5-0cf2499883bd"
      },
      "source": [
        "# getiing predictions using the model\n",
        "STEP_SIZE_TEST = test_generator.samples//test_generator.batch_size\n",
        "\n",
        "# reset before every predict run\n",
        "test_generator.reset()\n",
        "pred = model.predict(test_generator,\n",
        "              steps = STEP_SIZE_TEST,\n",
        "              verbose=1)"
      ],
      "execution_count": 169,
      "outputs": [
        {
          "output_type": "stream",
          "name": "stdout",
          "text": [
            "251/251 [==============================] - 141s 561ms/step\n"
          ]
        }
      ]
    },
    {
      "cell_type": "code",
      "metadata": {
        "id": "YWeBQPKw49fU"
      },
      "source": [
        "# getting the array for labels of predicted classes\n",
        "predicted_class_indices = np.argmax(pred,axis=1)\n"
      ],
      "execution_count": 170,
      "outputs": []
    },
    {
      "cell_type": "code",
      "metadata": {
        "id": "ZrY3WhRpUgFz"
      },
      "source": [
        "# getting the labels for names of predicted classes\n",
        "predictions = [labels[k] for k in predicted_class_indices]"
      ],
      "execution_count": 171,
      "outputs": []
    },
    {
      "cell_type": "markdown",
      "metadata": {
        "id": "nxFHMRoKGvPk"
      },
      "source": [
        "Storing the results in list using indiviual file prediction\n"
      ]
    },
    {
      "cell_type": "code",
      "metadata": {
        "id": "h8rseZLk5i9n"
      },
      "source": [
        "Id_list = []\n",
        "Expected_list = []\n",
        "count = 0\n",
        "\n",
        "for root, direc, files in os.walk(test_folder):\n",
        "        for f in files:\n",
        "            # getting each image from the test folder\n",
        "            img_path = os.path.join(test_folder,f)\n",
        "\n",
        "            # adding filename to list\n",
        "            Id_list.append(f[:-4])\n",
        "\n",
        "            # calling predict_label(image_path) function to get the label\n",
        "            # adding label to corresponding list\n",
        "            Expected_list.append(predict_label(img_path))\n",
        "            count += 1\n",
        "            \n"
      ],
      "execution_count": 172,
      "outputs": []
    },
    {
      "cell_type": "markdown",
      "metadata": {
        "id": "hZKBwblNHwFZ"
      },
      "source": [
        "Creating a csv file to save the labels\n"
      ]
    },
    {
      "cell_type": "code",
      "metadata": {
        "id": "MY3rj3GSm8Ps"
      },
      "source": [
        " # populating in a dataframe\n",
        "labels_df = pd.DataFrame(list(zip(Id_list,Expected_list)),\n",
        "                            columns = ['Id','Expected']\n",
        "                            )\n",
        "# saving results to a csv file label.csv\n",
        "labels_df.to_csv(r'/content/drive/MyDrive/labels1.csv', index = False)\n"
      ],
      "execution_count": 173,
      "outputs": []
    },
    {
      "cell_type": "markdown",
      "metadata": {
        "id": "EkCcMlzoPIPo"
      },
      "source": [
        "### Saving the model"
      ]
    },
    {
      "cell_type": "code",
      "metadata": {
        "id": "FfkpWjQZPHEJ"
      },
      "source": [
        "model.save(r'/content/drive/MyDrive/sig_classifier.h5')"
      ],
      "execution_count": 176,
      "outputs": []
    },
    {
      "cell_type": "markdown",
      "metadata": {
        "id": "mKKdpKn_H31Q"
      },
      "source": [
        "#### End of notebook"
      ]
    }
  ]
}